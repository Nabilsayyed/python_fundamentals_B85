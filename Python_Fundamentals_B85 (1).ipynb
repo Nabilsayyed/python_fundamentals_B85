{
 "cells": [
  {
   "cell_type": "code",
   "execution_count": 1,
   "id": "1fc0b5ff",
   "metadata": {},
   "outputs": [
    {
     "name": "stdout",
     "output_type": "stream",
     "text": [
      "Hello All welcome to the python proramming world!\n"
     ]
    }
   ],
   "source": [
    "print(\"Hello All welcome to the python proramming world!\")"
   ]
  },
  {
   "cell_type": "code",
   "execution_count": 1,
   "id": "bf0f169f",
   "metadata": {},
   "outputs": [],
   "source": [
    "#3Day 2 "
   ]
  },
  {
   "cell_type": "code",
   "execution_count": 1,
   "id": "15ffe20e",
   "metadata": {},
   "outputs": [],
   "source": [
    "#Variable"
   ]
  },
  {
   "cell_type": "code",
   "execution_count": 2,
   "id": "b04f6fea",
   "metadata": {},
   "outputs": [],
   "source": [
    "x=2\n",
    "y=3"
   ]
  },
  {
   "cell_type": "code",
   "execution_count": 4,
   "id": "b96d8778",
   "metadata": {},
   "outputs": [
    {
     "name": "stdout",
     "output_type": "stream",
     "text": [
      "5\n"
     ]
    }
   ],
   "source": [
    "z=x+y\n",
    "print(z)"
   ]
  },
  {
   "cell_type": "code",
   "execution_count": 5,
   "id": "c35f626f",
   "metadata": {},
   "outputs": [
    {
     "ename": "SyntaxError",
     "evalue": "invalid syntax (31736165.py, line 2)",
     "output_type": "error",
     "traceback": [
      "\u001b[1;36m  Input \u001b[1;32mIn [5]\u001b[1;36m\u001b[0m\n\u001b[1;33m    no name spaces while  declaring variable name\u001b[0m\n\u001b[1;37m       ^\u001b[0m\n\u001b[1;31mSyntaxError\u001b[0m\u001b[1;31m:\u001b[0m invalid syntax\n"
     ]
    }
   ],
   "source": [
    "#Rule1\n",
    "no name spaces while  declaring variable name \n",
    "\n",
    "ex \n",
    "\n",
    "\n",
    "First name='Nabil'\n",
    "\n",
    "\n"
   ]
  },
  {
   "cell_type": "code",
   "execution_count": 7,
   "id": "6fb13d50",
   "metadata": {},
   "outputs": [
    {
     "name": "stdout",
     "output_type": "stream",
     "text": [
      "Nabil\n"
     ]
    }
   ],
   "source": [
    "FirstName='Nabil'\n",
    "print(FirstName)"
   ]
  },
  {
   "cell_type": "code",
   "execution_count": 8,
   "id": "9d3f05fb",
   "metadata": {},
   "outputs": [
    {
     "ename": "SyntaxError",
     "evalue": "invalid syntax (4090918971.py, line 2)",
     "output_type": "error",
     "traceback": [
      "\u001b[1;36m  Input \u001b[1;32mIn [8]\u001b[1;36m\u001b[0m\n\u001b[1;33m    Avariable name should not start with a number\u001b[0m\n\u001b[1;37m              ^\u001b[0m\n\u001b[1;31mSyntaxError\u001b[0m\u001b[1;31m:\u001b[0m invalid syntax\n"
     ]
    }
   ],
   "source": [
    "#Rule2\n",
    "Avariable name should not start with a number\n",
    "\n",
    "ex= 1Name= 'Jhansi'"
   ]
  },
  {
   "cell_type": "code",
   "execution_count": 9,
   "id": "e5a14c56",
   "metadata": {},
   "outputs": [],
   "source": [
    "Name1='Jhansi'"
   ]
  },
  {
   "cell_type": "code",
   "execution_count": 10,
   "id": "51c148cb",
   "metadata": {},
   "outputs": [
    {
     "ename": "SyntaxError",
     "evalue": "invalid syntax (3142798293.py, line 2)",
     "output_type": "error",
     "traceback": [
      "\u001b[1;36m  Input \u001b[1;32mIn [10]\u001b[1;36m\u001b[0m\n\u001b[1;33m    A variable should not contain any special character\u001b[0m\n\u001b[1;37m      ^\u001b[0m\n\u001b[1;31mSyntaxError\u001b[0m\u001b[1;31m:\u001b[0m invalid syntax\n"
     ]
    }
   ],
   "source": [
    "#Rule 3 \n",
    "A variable should not contain any special character\n",
    "\n",
    "name@ = 'kartik'"
   ]
  },
  {
   "cell_type": "code",
   "execution_count": null,
   "id": "7984c14c",
   "metadata": {},
   "outputs": [],
   "source": [
    "Intro to datatypes\n",
    "\n",
    "1.String\n",
    "2.Numbers /Integer(int)\n",
    "3.List\n",
    "4.tuple\n",
    "5.Dictionary"
   ]
  },
  {
   "cell_type": "code",
   "execution_count": null,
   "id": "c1a6129d",
   "metadata": {},
   "outputs": [],
   "source": [
    "#classification\n",
    "\n",
    "1Mutable datatype\n",
    "2imutable datatype"
   ]
  },
  {
   "cell_type": "code",
   "execution_count": null,
   "id": "a1007dba",
   "metadata": {},
   "outputs": [],
   "source": [
    "#.String\n",
    "1single quote\n",
    "2.Double quote\n"
   ]
  },
  {
   "cell_type": "code",
   "execution_count": 13,
   "id": "c7e297da",
   "metadata": {},
   "outputs": [
    {
     "name": "stdout",
     "output_type": "stream",
     "text": [
      "sandeep\n",
      "yaseen\n"
     ]
    }
   ],
   "source": [
    "#ex\n",
    "name='sandeep'\n",
    "print(name)\n",
    "name1=\"yaseen\"\n",
    "print(name1)"
   ]
  },
  {
   "cell_type": "code",
   "execution_count": 14,
   "id": "0f4edf93",
   "metadata": {},
   "outputs": [
    {
     "data": {
      "text/plain": [
       "str"
      ]
     },
     "execution_count": 14,
     "metadata": {},
     "output_type": "execute_result"
    }
   ],
   "source": [
    "#Intro to string type\n",
    "type(name)\n",
    "type(name1)"
   ]
  },
  {
   "cell_type": "code",
   "execution_count": 15,
   "id": "f9f39684",
   "metadata": {},
   "outputs": [
    {
     "name": "stdout",
     "output_type": "stream",
     "text": [
      "satayam nadella\n"
     ]
    }
   ],
   "source": [
    "fullname ='satayam nadella'\n",
    "print(fullname)"
   ]
  },
  {
   "cell_type": "code",
   "execution_count": 16,
   "id": "01f36362",
   "metadata": {},
   "outputs": [
    {
     "name": "stdout",
     "output_type": "stream",
     "text": [
      "Satayam Nadella\n"
     ]
    }
   ],
   "source": [
    "print(fullname.title())"
   ]
  },
  {
   "cell_type": "code",
   "execution_count": null,
   "id": "44e8af42",
   "metadata": {},
   "outputs": [],
   "source": []
  }
 ],
 "metadata": {
  "kernelspec": {
   "display_name": "Python 3 (ipykernel)",
   "language": "python",
   "name": "python3"
  },
  "language_info": {
   "codemirror_mode": {
    "name": "ipython",
    "version": 3
   },
   "file_extension": ".py",
   "mimetype": "text/x-python",
   "name": "python",
   "nbconvert_exporter": "python",
   "pygments_lexer": "ipython3",
   "version": "3.9.12"
  }
 },
 "nbformat": 4,
 "nbformat_minor": 5
}
