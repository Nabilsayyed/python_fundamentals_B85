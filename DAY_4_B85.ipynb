{
 "cells": [
  {
   "cell_type": "code",
   "execution_count": 1,
   "id": "43a2f51b",
   "metadata": {},
   "outputs": [],
   "source": [
    "#INTRODUCTION TO LIST DATATYPE "
   ]
  },
  {
   "cell_type": "code",
   "execution_count": 2,
   "id": "a2c88127",
   "metadata": {},
   "outputs": [],
   "source": [
    "#Defination : A list is collection of items in a particular Order \n",
    "    \n",
    "#Classification : It is classified as a mutable datatype(Mutable datatype)"
   ]
  },
  {
   "cell_type": "code",
   "execution_count": 3,
   "id": "a8bc40e1",
   "metadata": {},
   "outputs": [],
   "source": [
    "#Q How to define list data type : []"
   ]
  },
  {
   "cell_type": "code",
   "execution_count": 4,
   "id": "ebc48d9e",
   "metadata": {},
   "outputs": [
    {
     "name": "stdout",
     "output_type": "stream",
     "text": [
      "['khadija', 'anitha', 'naveen', 'suresh', 'keerthi', 'david']\n"
     ]
    }
   ],
   "source": [
    "#EX: \n",
    "students=['khadija','anitha','naveen','suresh','keerthi','david']\n",
    "print(students)"
   ]
  },
  {
   "cell_type": "code",
   "execution_count": 5,
   "id": "62fbeaf4",
   "metadata": {},
   "outputs": [],
   "source": [
    "#UNDERSTANDING THE CONCEPT OF INDEXING"
   ]
  },
  {
   "cell_type": "code",
   "execution_count": 6,
   "id": "a6cb1f84",
   "metadata": {},
   "outputs": [],
   "source": [
    "#(0,1,2,3,4,5,...)"
   ]
  },
  {
   "cell_type": "code",
   "execution_count": 7,
   "id": "f78ad17e",
   "metadata": {},
   "outputs": [],
   "source": [
    "#REQ i want to accesss lets say anitha name from the above"
   ]
  },
  {
   "cell_type": "code",
   "execution_count": 8,
   "id": "3ef6488f",
   "metadata": {},
   "outputs": [
    {
     "name": "stdout",
     "output_type": "stream",
     "text": [
      "anitha\n"
     ]
    }
   ],
   "source": [
    "print(students[1])"
   ]
  },
  {
   "cell_type": "code",
   "execution_count": 9,
   "id": "7abfaa4c",
   "metadata": {},
   "outputs": [],
   "source": [
    "#req i want to access lets say suresh from the above"
   ]
  },
  {
   "cell_type": "code",
   "execution_count": 10,
   "id": "0553dfc4",
   "metadata": {},
   "outputs": [
    {
     "name": "stdout",
     "output_type": "stream",
     "text": [
      "suresh\n"
     ]
    }
   ],
   "source": [
    "print(students[3])"
   ]
  },
  {
   "cell_type": "code",
   "execution_count": 11,
   "id": "e9686e4c",
   "metadata": {},
   "outputs": [
    {
     "name": "stdout",
     "output_type": "stream",
     "text": [
      "Suresh\n"
     ]
    }
   ],
   "source": [
    "print(students[3].title())"
   ]
  },
  {
   "cell_type": "code",
   "execution_count": 14,
   "id": "dc3091bb",
   "metadata": {},
   "outputs": [
    {
     "name": "stdout",
     "output_type": "stream",
     "text": [
      "['khadija', 'anitha', 'naveen', 'suresh', 'keerthi', 'david', 'satish']\n"
     ]
    }
   ],
   "source": [
    "#How to add new element to the list\n",
    "students.append('satish')\n",
    "print(students)"
   ]
  },
  {
   "cell_type": "code",
   "execution_count": 15,
   "id": "0948a4c6",
   "metadata": {},
   "outputs": [
    {
     "name": "stdout",
     "output_type": "stream",
     "text": [
      "['khadija', 'anitha', 'naveen', 'suresh', 'keerthi', 'david', 'satish', 'shoib']\n"
     ]
    }
   ],
   "source": [
    "#I want to add shoib\n",
    "students.append('shoib')\n",
    "print(students)"
   ]
  },
  {
   "cell_type": "code",
   "execution_count": 16,
   "id": "1824f0da",
   "metadata": {},
   "outputs": [],
   "source": [
    "#3****Interview***\n",
    "#what is diff bet insert and append method"
   ]
  },
  {
   "cell_type": "code",
   "execution_count": 18,
   "id": "2b84e724",
   "metadata": {},
   "outputs": [
    {
     "name": "stdout",
     "output_type": "stream",
     "text": [
      "['khadija', 'anitha', 'tanvir', 'naveen', 'suresh', 'keerthi', 'david', 'satish', 'shoib']\n"
     ]
    }
   ],
   "source": [
    "#Req i want to add tanvir at 2nd index position\n",
    "students.insert(2,'tanvir')\n",
    "print(students)"
   ]
  },
  {
   "cell_type": "code",
   "execution_count": 19,
   "id": "dbfe0281",
   "metadata": {},
   "outputs": [
    {
     "name": "stdout",
     "output_type": "stream",
     "text": [
      "['Rubina', 'anitha', 'tanvir', 'naveen', 'suresh', 'keerthi', 'david', 'satish', 'shoib']\n"
     ]
    }
   ],
   "source": [
    "#Req i want to modify khadija name to rubina\n",
    "students[0]='Rubina'\n",
    "print(students)"
   ]
  },
  {
   "cell_type": "code",
   "execution_count": 20,
   "id": "e498a47e",
   "metadata": {},
   "outputs": [
    {
     "name": "stdout",
     "output_type": "stream",
     "text": [
      "['Rubina', 'tanvir', 'naveen', 'suresh', 'keerthi', 'david', 'satish', 'shoib']\n"
     ]
    }
   ],
   "source": [
    "#How to delete element to the list\n",
    "del students[1]\n",
    "print(students)"
   ]
  },
  {
   "cell_type": "code",
   "execution_count": null,
   "id": "c544c98d",
   "metadata": {},
   "outputs": [],
   "source": []
  }
 ],
 "metadata": {
  "kernelspec": {
   "display_name": "Python 3 (ipykernel)",
   "language": "python",
   "name": "python3"
  },
  "language_info": {
   "codemirror_mode": {
    "name": "ipython",
    "version": 3
   },
   "file_extension": ".py",
   "mimetype": "text/x-python",
   "name": "python",
   "nbconvert_exporter": "python",
   "pygments_lexer": "ipython3",
   "version": "3.9.12"
  }
 },
 "nbformat": 4,
 "nbformat_minor": 5
}
