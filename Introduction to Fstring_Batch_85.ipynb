{
 "cells": [
  {
   "cell_type": "code",
   "execution_count": 1,
   "id": "67d7a148",
   "metadata": {},
   "outputs": [],
   "source": [
    "#Introduction to f string ***imp for interview"
   ]
  },
  {
   "cell_type": "code",
   "execution_count": null,
   "id": "d413ec48",
   "metadata": {},
   "outputs": [],
   "source": []
  },
  {
   "cell_type": "code",
   "execution_count": null,
   "id": "b64d8007",
   "metadata": {},
   "outputs": [],
   "source": [
    "#Genral syntax of f strings\n",
    "\n",
    "\n",
    "f\"custom message{placeholder-1}{placeholder-2}.....{placeholder..n}\""
   ]
  },
  {
   "cell_type": "code",
   "execution_count": 3,
   "id": "7d45c7a9",
   "metadata": {},
   "outputs": [],
   "source": [
    "firstname='leena'\n",
    "lastname ='patil'"
   ]
  },
  {
   "cell_type": "code",
   "execution_count": 4,
   "id": "df9c4b26",
   "metadata": {},
   "outputs": [],
   "source": [
    "#req i want to get the full name"
   ]
  },
  {
   "cell_type": "code",
   "execution_count": 8,
   "id": "c6f446c3",
   "metadata": {},
   "outputs": [
    {
     "name": "stdout",
     "output_type": "stream",
     "text": [
      "leena patil\n"
     ]
    }
   ],
   "source": [
    "fullname=f\"{firstname} {lastname}\"\n",
    "print(fullname)"
   ]
  },
  {
   "cell_type": "code",
   "execution_count": 9,
   "id": "1feef104",
   "metadata": {},
   "outputs": [
    {
     "name": "stdout",
     "output_type": "stream",
     "text": [
      "Leena Patil\n"
     ]
    }
   ],
   "source": [
    "print(fullname.title())"
   ]
  },
  {
   "cell_type": "code",
   "execution_count": 11,
   "id": "f7cc5541",
   "metadata": {},
   "outputs": [
    {
     "name": "stdout",
     "output_type": "stream",
     "text": [
      "keep up the good work,Leena Patil\n"
     ]
    }
   ],
   "source": [
    "Message=f\"keep up the good work,{fullname.title()}\"\n",
    "print(Message)"
   ]
  },
  {
   "cell_type": "code",
   "execution_count": null,
   "id": "3a19bc3a",
   "metadata": {},
   "outputs": [],
   "source": []
  },
  {
   "cell_type": "code",
   "execution_count": 12,
   "id": "cb72f729",
   "metadata": {},
   "outputs": [],
   "source": [
    "# Adding white spaces to strings"
   ]
  },
  {
   "cell_type": "code",
   "execution_count": 13,
   "id": "c60721d1",
   "metadata": {},
   "outputs": [
    {
     "name": "stdout",
     "output_type": "stream",
     "text": [
      "fav.language:\n",
      "python\n",
      "java\n",
      "c++\n",
      "swift\n"
     ]
    }
   ],
   "source": [
    "print(\"fav.language:\\npython\\njava\\nc++\\nswift\")"
   ]
  },
  {
   "cell_type": "code",
   "execution_count": 14,
   "id": "b18c19ba",
   "metadata": {},
   "outputs": [
    {
     "name": "stdout",
     "output_type": "stream",
     "text": [
      "fav.language:\n",
      "python\n",
      "java\n",
      "c++\n",
      "swift\n",
      "scala\n"
     ]
    }
   ],
   "source": [
    "print(\"fav.language:\\npython\\njava\\nc++\\nswift\\nscala\")"
   ]
  },
  {
   "cell_type": "code",
   "execution_count": 15,
   "id": "0a2e4f08",
   "metadata": {},
   "outputs": [],
   "source": [
    "# REMOVING WHITE SPACES FROM THE STRING"
   ]
  },
  {
   "cell_type": "code",
   "execution_count": 16,
   "id": "d634ffb1",
   "metadata": {},
   "outputs": [
    {
     "name": "stdout",
     "output_type": "stream",
     "text": [
      "pthon\n"
     ]
    }
   ],
   "source": [
    "name=\"pthon\"\n",
    "print(name)"
   ]
  },
  {
   "cell_type": "code",
   "execution_count": 22,
   "id": "4fc998c0",
   "metadata": {},
   "outputs": [
    {
     "name": "stdout",
     "output_type": "stream",
     "text": [
      "python      \n"
     ]
    }
   ],
   "source": [
    "name2=\"python      \"\n",
    "print(name2)"
   ]
  },
  {
   "cell_type": "code",
   "execution_count": 26,
   "id": "1b4a270d",
   "metadata": {},
   "outputs": [
    {
     "name": "stdout",
     "output_type": "stream",
     "text": [
      "    python\n"
     ]
    }
   ],
   "source": [
    "name3=\"    python\"\n",
    "print(name3)"
   ]
  },
  {
   "cell_type": "code",
   "execution_count": 27,
   "id": "b13ab043",
   "metadata": {},
   "outputs": [
    {
     "data": {
      "text/plain": [
       "'python'"
      ]
     },
     "execution_count": 27,
     "metadata": {},
     "output_type": "execute_result"
    }
   ],
   "source": [
    "name2.rstrip()"
   ]
  },
  {
   "cell_type": "code",
   "execution_count": 28,
   "id": "b631ded1",
   "metadata": {},
   "outputs": [
    {
     "data": {
      "text/plain": [
       "'python'"
      ]
     },
     "execution_count": 28,
     "metadata": {},
     "output_type": "execute_result"
    }
   ],
   "source": [
    "name3.lstrip()"
   ]
  },
  {
   "cell_type": "code",
   "execution_count": null,
   "id": "bcef0209",
   "metadata": {},
   "outputs": [],
   "source": []
  }
 ],
 "metadata": {
  "kernelspec": {
   "display_name": "Python 3 (ipykernel)",
   "language": "python",
   "name": "python3"
  },
  "language_info": {
   "codemirror_mode": {
    "name": "ipython",
    "version": 3
   },
   "file_extension": ".py",
   "mimetype": "text/x-python",
   "name": "python",
   "nbconvert_exporter": "python",
   "pygments_lexer": "ipython3",
   "version": "3.9.12"
  }
 },
 "nbformat": 4,
 "nbformat_minor": 5
}
