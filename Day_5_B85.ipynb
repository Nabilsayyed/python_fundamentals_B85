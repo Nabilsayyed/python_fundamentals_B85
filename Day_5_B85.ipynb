{
 "cells": [
  {
   "cell_type": "code",
   "execution_count": 1,
   "id": "6a8b52e3",
   "metadata": {},
   "outputs": [],
   "source": [
    "#CONTINUATION WITH LIST DATA TYPE"
   ]
  },
  {
   "cell_type": "code",
   "execution_count": 2,
   "id": "8bb7bf33",
   "metadata": {},
   "outputs": [],
   "source": [
    "#ORGANISING LIST DATA TYPE"
   ]
  },
  {
   "cell_type": "code",
   "execution_count": 4,
   "id": "2607bfc4",
   "metadata": {},
   "outputs": [
    {
     "name": "stdout",
     "output_type": "stream",
     "text": [
      "['suzuki', 'maruthi', 'hyundai', 'benz', 'kia', 'audi', 'tata', 'bmw']\n"
     ]
    }
   ],
   "source": [
    "cars=['suzuki','maruthi','hyundai','benz','kia','audi','tata','bmw']\n",
    "print(cars)"
   ]
  },
  {
   "cell_type": "code",
   "execution_count": 7,
   "id": "c7b44fd2",
   "metadata": {},
   "outputs": [],
   "source": [
    "#req i want to organize the above into a alphabetical order\n",
    "#Their are mainly to approches\n",
    "#approche 1 permanant Approach : changes will be applied permanantly #*sorted()\n",
    "#approche 2 temporary Approach : changes will be able to get original defined list order  #*sort()"
   ]
  },
  {
   "cell_type": "code",
   "execution_count": 8,
   "id": "c95b9865",
   "metadata": {},
   "outputs": [
    {
     "name": "stdout",
     "output_type": "stream",
     "text": [
      "['audi', 'benz', 'bmw', 'hyundai', 'kia', 'maruthi', 'suzuki', 'tata']\n"
     ]
    }
   ],
   "source": [
    "print(sorted(cars))"
   ]
  },
  {
   "cell_type": "code",
   "execution_count": 12,
   "id": "51395057",
   "metadata": {},
   "outputs": [
    {
     "name": "stdout",
     "output_type": "stream",
     "text": [
      "['audi', 'benz', 'bmw', 'hyundai', 'kia', 'maruthi', 'suzuki', 'tata']\n"
     ]
    }
   ],
   "source": [
    "cars.sort()\n",
    "print(cars)"
   ]
  },
  {
   "cell_type": "code",
   "execution_count": 13,
   "id": "c3ae809f",
   "metadata": {},
   "outputs": [
    {
     "name": "stdout",
     "output_type": "stream",
     "text": [
      "['audi', 'benz', 'bmw', 'hyundai', 'kia', 'maruthi', 'suzuki', 'tata']\n"
     ]
    }
   ],
   "source": [
    "print(cars)"
   ]
  },
  {
   "cell_type": "code",
   "execution_count": 14,
   "id": "62f86cff",
   "metadata": {},
   "outputs": [],
   "source": [
    "#****INTERVIEW Q***\n",
    "#WHAT IS THE DIFFERENCE BETN SORTED AND SORT METHOD IN A LIST DATA TYPE?"
   ]
  },
  {
   "cell_type": "code",
   "execution_count": 15,
   "id": "c38b23a3",
   "metadata": {},
   "outputs": [
    {
     "data": {
      "text/plain": [
       "8"
      ]
     },
     "execution_count": 15,
     "metadata": {},
     "output_type": "execute_result"
    }
   ],
   "source": [
    "#Req i want to know the number of element in the list data type\n",
    "\n",
    "len(cars)"
   ]
  },
  {
   "cell_type": "code",
   "execution_count": 16,
   "id": "a25c93cd",
   "metadata": {},
   "outputs": [
    {
     "name": "stdout",
     "output_type": "stream",
     "text": [
      "['tata', 'suzuki', 'maruthi', 'kia', 'hyundai', 'bmw', 'benz', 'audi']\n"
     ]
    }
   ],
   "source": [
    "#Req i want to revers the list that has been defined # A-Z = Z-A\n",
    "\n",
    "cars.reverse()\n",
    "print(cars)"
   ]
  },
  {
   "cell_type": "code",
   "execution_count": 17,
   "id": "47e38ec0",
   "metadata": {},
   "outputs": [],
   "source": [
    "#INTRODUUCTION TO SLICING\n",
    "\n"
   ]
  },
  {
   "cell_type": "code",
   "execution_count": 18,
   "id": "9c250b39",
   "metadata": {},
   "outputs": [
    {
     "name": "stdout",
     "output_type": "stream",
     "text": [
      "['parvez', 'naveen', 'khadija', 'roja', 'karthik', 'joseph']\n"
     ]
    }
   ],
   "source": [
    "students=['parvez','naveen','khadija','roja','karthik','joseph']\n",
    "print(students)"
   ]
  },
  {
   "cell_type": "code",
   "execution_count": 19,
   "id": "d744db9b",
   "metadata": {},
   "outputs": [],
   "source": [
    "#genral syntax of slicing: [star_valu:stop_value:step_count]\n",
    "#Note: Last value is always exlusive,to incude"
   ]
  },
  {
   "cell_type": "code",
   "execution_count": 20,
   "id": "d48eb42f",
   "metadata": {},
   "outputs": [
    {
     "name": "stdout",
     "output_type": "stream",
     "text": [
      "['parvez']\n"
     ]
    }
   ],
   "source": [
    "#req : i want to get parvez and naveen in a slice\n",
    "\n",
    "print(students[0:1])"
   ]
  },
  {
   "cell_type": "code",
   "execution_count": 22,
   "id": "240eec36",
   "metadata": {},
   "outputs": [
    {
     "name": "stdout",
     "output_type": "stream",
     "text": [
      "['parvez', 'naveen']\n"
     ]
    }
   ],
   "source": [
    "print(students[0:2])"
   ]
  },
  {
   "cell_type": "code",
   "execution_count": 25,
   "id": "14e712f8",
   "metadata": {},
   "outputs": [
    {
     "name": "stdout",
     "output_type": "stream",
     "text": [
      "['khadija', 'roja']\n"
     ]
    }
   ],
   "source": [
    "#req i want to get khtija and roja in a slice\n",
    "\n",
    "print(students[2:4])"
   ]
  },
  {
   "cell_type": "code",
   "execution_count": 26,
   "id": "a3177de8",
   "metadata": {},
   "outputs": [
    {
     "name": "stdout",
     "output_type": "stream",
     "text": [
      "['karthik', 'joseph']\n"
     ]
    }
   ],
   "source": [
    "#req i want to get karthik and joseph in a slice\n",
    "print(students[4:6])"
   ]
  },
  {
   "cell_type": "code",
   "execution_count": 28,
   "id": "34037d84",
   "metadata": {},
   "outputs": [
    {
     "name": "stdout",
     "output_type": "stream",
     "text": [
      "['parvez', 'khadija', 'karthik']\n"
     ]
    }
   ],
   "source": [
    "print(students[0:6:2])"
   ]
  },
  {
   "cell_type": "code",
   "execution_count": null,
   "id": "b25aa459",
   "metadata": {},
   "outputs": [],
   "source": []
  }
 ],
 "metadata": {
  "kernelspec": {
   "display_name": "Python 3 (ipykernel)",
   "language": "python",
   "name": "python3"
  },
  "language_info": {
   "codemirror_mode": {
    "name": "ipython",
    "version": 3
   },
   "file_extension": ".py",
   "mimetype": "text/x-python",
   "name": "python",
   "nbconvert_exporter": "python",
   "pygments_lexer": "ipython3",
   "version": "3.9.12"
  }
 },
 "nbformat": 4,
 "nbformat_minor": 5
}
